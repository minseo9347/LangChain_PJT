{
 "cells": [
  {
   "cell_type": "markdown",
   "id": "42a20a8e",
   "metadata": {},
   "source": [
    "# llm 기본틀 만들기\n",
    "- OpenAI Key 로딩, ChatOpenAI() 객체 생성"
   ]
  },
  {
   "cell_type": "code",
   "execution_count": 7,
   "id": "0bdb8bef",
   "metadata": {},
   "outputs": [],
   "source": [
    "from dotenv import load_dotenv\n",
    "import os\n",
    "from langchain_openai import ChatOpenAI\n",
    "\n",
    "load_dotenv('../.env', override=True)\n",
    "\n",
    "OPENAIAPI = os.getenv('OPENAIAPI')\n",
    "# print(api_key)"
   ]
  },
  {
   "cell_type": "markdown",
   "id": "ca9d11bd",
   "metadata": {},
   "source": [
    "# 모델 객체 생성"
   ]
  },
  {
   "cell_type": "code",
   "execution_count": 8,
   "id": "72dd031d",
   "metadata": {},
   "outputs": [
    {
     "data": {
      "text/plain": [
       "ChatOpenAI(client=<openai.resources.chat.completions.completions.Completions object at 0x106f11160>, async_client=<openai.resources.chat.completions.completions.AsyncCompletions object at 0x110d54890>, root_client=<openai.OpenAI object at 0x1077ab320>, root_async_client=<openai.AsyncOpenAI object at 0x10784c2c0>, model_name='gpt-3.5-turbo-0125', model_kwargs={}, openai_api_key=SecretStr('**********'))"
      ]
     },
     "execution_count": 8,
     "metadata": {},
     "output_type": "execute_result"
    }
   ],
   "source": [
    "# gpt model 객체 생성\n",
    "# llm = ChatOpenAI(model=\"gpt-4o\", api_key=api_key)\n",
    "llm = ChatOpenAI(model=\"gpt-3.5-turbo-0125\", api_key=OPENAIAPI)\n",
    "llm"
   ]
  },
  {
   "cell_type": "code",
   "execution_count": 9,
   "id": "5a6957c1",
   "metadata": {},
   "outputs": [],
   "source": [
    "from langchain_core.prompts import ChatPromptTemplate\n",
    "from langchain_core.output_parsers import StrOutputParser"
   ]
  },
  {
   "cell_type": "markdown",
   "id": "598143d3",
   "metadata": {},
   "source": [
    "# 시스템 프롬프트 작성"
   ]
  },
  {
   "cell_type": "markdown",
   "id": "7ca9e1b9",
   "metadata": {},
   "source": [
    "- https://github.com/f/awesome-chatgpt-prompts\n",
    "검색 : financial\n",
    "```\n",
    "Want assistance provided by qualified individuals enabled with experience on understanding charts using technical analysis tools while interpreting macroeconomic environment prevailing across world consequently assisting customers acquire long term advantages requires clear verdicts therefore seeking same through informed predictions written down precisely! First statement contains following content- \"Can you tell us what future stock market looks like based upon current conditions ?\".\n",
    "```"
   ]
  },
  {
   "cell_type": "code",
   "execution_count": 10,
   "id": "74e6db77",
   "metadata": {},
   "outputs": [],
   "source": [
    "system_prompt = \"\"\"\n",
    "Want assistance provided by qualified individuals enabled with experience on understanding charts using technical analysis tools while interpreting macroeconomic environment prevailing across world consequently assisting customers acquire long term advantages requires clear verdicts therefore seeking same through informed predictions written down precisely! First statement contains following content- “Can you tell us what future stock market looks like based upon current conditions ?\".\n",
    "\"\"\"\n",
    "user_prompt = \"{company}에 주식을 투자해도 될까요? 마크다운 형식의 투자보고서를 한글로 작성해 주세요.\""
   ]
  },
  {
   "cell_type": "markdown",
   "id": "9ab4a4fc",
   "metadata": {},
   "source": [
    "# 프롬프트 객체 생성"
   ]
  },
  {
   "cell_type": "code",
   "execution_count": 11,
   "id": "fcf75a6d",
   "metadata": {},
   "outputs": [
    {
     "data": {
      "text/plain": [
       "ChatPromptTemplate(input_variables=['company'], input_types={}, partial_variables={}, messages=[SystemMessagePromptTemplate(prompt=PromptTemplate(input_variables=[], input_types={}, partial_variables={}, template='\\nWant assistance provided by qualified individuals enabled with experience on understanding charts using technical analysis tools while interpreting macroeconomic environment prevailing across world consequently assisting customers acquire long term advantages requires clear verdicts therefore seeking same through informed predictions written down precisely! First statement contains following content- “Can you tell us what future stock market looks like based upon current conditions ?\".\\n'), additional_kwargs={}), HumanMessagePromptTemplate(prompt=PromptTemplate(input_variables=['company'], input_types={}, partial_variables={}, template='{company}에 주식을 투자해도 될까요? 마크다운 형식의 투자보고서를 한글로 작성해 주세요.'), additional_kwargs={})])"
      ]
     },
     "execution_count": 11,
     "metadata": {},
     "output_type": "execute_result"
    }
   ],
   "source": [
    "prompt = ChatPromptTemplate.from_messages([\n",
    "    (\"system\", system_prompt),\n",
    "    (\"user\", user_prompt)\n",
    "])\n",
    "prompt"
   ]
  },
  {
   "cell_type": "markdown",
   "id": "dd7ec95b",
   "metadata": {},
   "source": [
    "# OutPut 파서 객체 생성"
   ]
  },
  {
   "cell_type": "code",
   "execution_count": 12,
   "id": "9d5ca5e6",
   "metadata": {},
   "outputs": [
    {
     "data": {
      "text/plain": [
       "StrOutputParser()"
      ]
     },
     "execution_count": 12,
     "metadata": {},
     "output_type": "execute_result"
    }
   ],
   "source": [
    "output_parser = StrOutputParser()\n",
    "output_parser"
   ]
  },
  {
   "cell_type": "markdown",
   "id": "6cc01e8f",
   "metadata": {},
   "source": [
    "# LCEL로 LLM 요청 및 응답받기"
   ]
  },
  {
   "cell_type": "markdown",
   "id": "813f6832",
   "metadata": {},
   "source": [
    "- chain 구성 : LCEL(LangChain Expression Language)"
   ]
  },
  {
   "cell_type": "code",
   "execution_count": 13,
   "id": "b5f7cdb2",
   "metadata": {},
   "outputs": [],
   "source": [
    "chain = prompt | llm | output_parser\n",
    "\n",
    "# 회사 이름\n",
    "company = \"MicroSoft\"\n",
    "response = chain.invoke({\"company\":company})"
   ]
  },
  {
   "cell_type": "code",
   "execution_count": 14,
   "id": "8a9568b0",
   "metadata": {},
   "outputs": [
    {
     "name": "stdout",
     "output_type": "stream",
     "text": [
      "# Microsoft 주식 투자 보고서\n",
      "\n",
      "## 투자 개요\n",
      "현재의 조건을 고려할 때, Microsoft 주식에 대한 전망은 긍정적입니다. 기술 분야에서의 리더십과 안정적인 재무 상태로 인해 장기적으로 주식 시장에서 성과를 거두고 있습니다.\n",
      "\n",
      "## 기술적 분석\n",
      "기술적 분석에 따르면 Microsoft 주식은 강력한 상승 추세를 보여주고 있습니다. 주가는 이동평균선을 넘어섰으며, 상승 지표들이 강세를 시사하고 있습니다.\n",
      "\n",
      "## 기본적 분석\n",
      "기본적 분석에서 Microsoft는 안정적인 실적을 보여주고 있으며, 기업의 성장 잠재력 또한 높은 수준에 있습니다. 이는 주식의 장기적인 성장 가능성을 뒷받침하고 있습니다.\n",
      "\n",
      "## 대외 환경\n",
      "세계적으로 경기가 회복되고 있으며, 기술 기업들에 대한 수요가 계속해서 증가하고 있습니다. 이러한 환경 속에서 Microsoft는 긍정적인 위치를 유지하고 있습니다.\n",
      "\n",
      "## 투자 결론\n",
      "Microsoft는 현재의 조건을 고려할 때 투자가치가 높은 기업으로 평가됩니다. 안정적인 성과와 성장 잠재력을 고려할 때, Microsoft 주식에 대한 투자는 장기적으로 이익을 창출할 수 있는 기회를 제공할 것으로 예상됩니다.\n",
      "\n",
      "이상은 현재의 조건을 고려하였을 때 Microsoft 주식에 대한 전망에 대한 마크다운 형식의 투자보고서입니다. 투자에 앞서 자문을 구하는 것을 권장드립니다.\n"
     ]
    }
   ],
   "source": [
    "print(response)"
   ]
  },
  {
   "cell_type": "code",
   "execution_count": null,
   "id": "ca3aeeeb",
   "metadata": {},
   "outputs": [],
   "source": []
  },
  {
   "cell_type": "code",
   "execution_count": null,
   "id": "5d0aaa73",
   "metadata": {},
   "outputs": [],
   "source": []
  }
 ],
 "metadata": {
  "kernelspec": {
   "display_name": "lc_env",
   "language": "python",
   "name": "python3"
  },
  "language_info": {
   "codemirror_mode": {
    "name": "ipython",
    "version": 3
   },
   "file_extension": ".py",
   "mimetype": "text/x-python",
   "name": "python",
   "nbconvert_exporter": "python",
   "pygments_lexer": "ipython3",
   "version": "3.12.11"
  }
 },
 "nbformat": 4,
 "nbformat_minor": 5
}
