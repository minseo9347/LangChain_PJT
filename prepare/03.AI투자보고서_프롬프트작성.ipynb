{
 "cells": [
  {
   "cell_type": "markdown",
   "id": "42a20a8e",
   "metadata": {},
   "source": [
    "# llm 기본틀 만들기\n",
    "- OpenAI Key 로딩, ChatOpenAI() 객체 생성"
   ]
  },
  {
   "cell_type": "code",
   "execution_count": 16,
   "id": "0bdb8bef",
   "metadata": {},
   "outputs": [],
   "source": [
    "from dotenv import load_dotenv\n",
    "import os\n",
    "from langchain_openai import ChatOpenAI\n",
    "\n",
    "load_dotenv('../.env', override=True)\n",
    "\n",
    "OPENAIAPI = os.getenv('OPENAIAPI')\n",
    "# print(api_key)"
   ]
  },
  {
   "cell_type": "markdown",
   "id": "ca9d11bd",
   "metadata": {},
   "source": [
    "# 모델 객체 생성"
   ]
  },
  {
   "cell_type": "code",
   "execution_count": 17,
   "id": "72dd031d",
   "metadata": {},
   "outputs": [
    {
     "data": {
      "text/plain": [
       "ChatOpenAI(client=<openai.resources.chat.completions.completions.Completions object at 0x122350e60>, async_client=<openai.resources.chat.completions.completions.AsyncCompletions object at 0x122351790>, root_client=<openai.OpenAI object at 0x15406a780>, root_async_client=<openai.AsyncOpenAI object at 0x15350cbc0>, model_name='gpt-3.5-turbo-0125', model_kwargs={}, openai_api_key=SecretStr('**********'))"
      ]
     },
     "execution_count": 17,
     "metadata": {},
     "output_type": "execute_result"
    }
   ],
   "source": [
    "# gpt model 객체 생성\n",
    "# llm = ChatOpenAI(model=\"gpt-4o\", api_key=api_key)\n",
    "llm = ChatOpenAI(model=\"gpt-3.5-turbo-0125\", api_key=OPENAIAPI)\n",
    "llm"
   ]
  },
  {
   "cell_type": "code",
   "execution_count": 18,
   "id": "5a6957c1",
   "metadata": {},
   "outputs": [],
   "source": [
    "from langchain_core.prompts import ChatPromptTemplate\n",
    "from langchain_core.output_parsers import StrOutputParser"
   ]
  },
  {
   "cell_type": "markdown",
   "id": "598143d3",
   "metadata": {},
   "source": [
    "# 시스템 프롬프트 작성"
   ]
  },
  {
   "cell_type": "markdown",
   "id": "7ca9e1b9",
   "metadata": {},
   "source": [
    "- https://github.com/f/awesome-chatgpt-prompts\n",
    "검색 : financial\n",
    "```\n",
    "Want assistance provided by qualified individuals enabled with experience on understanding charts using technical analysis tools while interpreting macroeconomic environment prevailing across world consequently assisting customers acquire long term advantages requires clear verdicts therefore seeking same through informed predictions written down precisely! First statement contains following content- \"Can you tell us what future stock market looks like based upon current conditions ?\".\n",
    "```"
   ]
  },
  {
   "cell_type": "code",
   "execution_count": 19,
   "id": "74e6db77",
   "metadata": {},
   "outputs": [],
   "source": [
    "system_prompt = \"\"\"\n",
    "Want assistance provided by qualified individuals enabled with experience on understanding charts using technical analysis tools while interpreting macroeconomic environment prevailing across world consequently assisting customers acquire long term advantages requires clear verdicts therefore seeking same through informed predictions written down precisely! First statement contains following content- “Can you tell us what future stock market looks like based upon current conditions ?\".\n",
    "\"\"\"\n",
    "user_prompt = \"\"\"\n",
    "    {company}에 주식을 투자해도 될까요? 마크다운 형식의 투자보고서를 한글로 작성해 주세요.\n",
    "    야래의 기본 정보, 재무제표를 참고해 마크다운 형식의 투자 보고서를 한글로 작성해 주세요.\n",
    "\n",
    "    기본정보:\n",
    "    {basic_info}\n",
    "\n",
    "    재무제표:\n",
    "    {financial_statement}\n",
    "    \"\"\""
   ]
  },
  {
   "cell_type": "markdown",
   "id": "9ab4a4fc",
   "metadata": {},
   "source": [
    "# 프롬프트 객체 생성"
   ]
  },
  {
   "cell_type": "code",
   "execution_count": 20,
   "id": "fcf75a6d",
   "metadata": {},
   "outputs": [
    {
     "data": {
      "text/plain": [
       "ChatPromptTemplate(input_variables=['basic_info', 'company', 'financial_statement'], input_types={}, partial_variables={}, messages=[SystemMessagePromptTemplate(prompt=PromptTemplate(input_variables=[], input_types={}, partial_variables={}, template='\\nWant assistance provided by qualified individuals enabled with experience on understanding charts using technical analysis tools while interpreting macroeconomic environment prevailing across world consequently assisting customers acquire long term advantages requires clear verdicts therefore seeking same through informed predictions written down precisely! First statement contains following content- “Can you tell us what future stock market looks like based upon current conditions ?\".\\n'), additional_kwargs={}), HumanMessagePromptTemplate(prompt=PromptTemplate(input_variables=['basic_info', 'company', 'financial_statement'], input_types={}, partial_variables={}, template='\\n    {company}에 주식을 투자해도 될까요? 마크다운 형식의 투자보고서를 한글로 작성해 주세요.\\n    야래의 기본 정보, 재무제표를 참고해 마크다운 형식의 투자 보고서를 한글로 작성해 주세요.\\n\\n    기본정보:\\n    {basic_info}\\n\\n    재무제표:\\n    {financial_statement}\\n    '), additional_kwargs={})])"
      ]
     },
     "execution_count": 20,
     "metadata": {},
     "output_type": "execute_result"
    }
   ],
   "source": [
    "prompt = ChatPromptTemplate.from_messages([\n",
    "    (\"system\", system_prompt),\n",
    "    (\"user\", user_prompt)\n",
    "])\n",
    "prompt"
   ]
  },
  {
   "cell_type": "markdown",
   "id": "dd7ec95b",
   "metadata": {},
   "source": [
    "# OutPut 파서 객체 생성"
   ]
  },
  {
   "cell_type": "code",
   "execution_count": 21,
   "id": "9d5ca5e6",
   "metadata": {},
   "outputs": [
    {
     "data": {
      "text/plain": [
       "StrOutputParser()"
      ]
     },
     "execution_count": 21,
     "metadata": {},
     "output_type": "execute_result"
    }
   ],
   "source": [
    "output_parser = StrOutputParser()\n",
    "output_parser"
   ]
  },
  {
   "cell_type": "code",
   "execution_count": 29,
   "id": "c1378f6a",
   "metadata": {},
   "outputs": [],
   "source": [
    "# from stock_info import Stock 인식이 안될 경우 아래 코드 실행\n",
    "import sys\n",
    "import os\n",
    "\n",
    "# 상위 디렉터리(LANGCHAIN_PJT)를 경로에 추가\n",
    "sys.path.append(os.path.abspath(\"..\"))\n"
   ]
  },
  {
   "cell_type": "code",
   "execution_count": 30,
   "id": "76e819ed",
   "metadata": {},
   "outputs": [],
   "source": [
    "# chain 구성 : LCEL(LangChain Expression Language)\n",
    "chain = prompt | llm | output_parser\n",
    "\n",
    "# 회사 이름\n",
    "# company = \"MicroSoft\"\n",
    "# symbol = \"MSFT\"  # stock의 symbol 정보\n",
    "\n",
    "company = \"Apple Inc\"\n",
    "symbol = \"AAPL\"\n",
    "# 기본정보 :  basic_info\n",
    "# 재무제표: finacial_statement\n",
    "\n",
    "# stock 정보를 객체로 모듈화해서 불러오기\n",
    "from stock_info import Stock\n",
    "\n",
    "stock = Stock(symbol)\n",
    "req_value = {\n",
    "    \"company\":company,\n",
    "    # 기본정보 :  basic_info\n",
    "    \"basic_info\": stock.get_basic_info(),\n",
    "    # 재무제표: finacial_statement\n",
    "    \"financial_statement\" : stock.get_financial_statement()\n",
    "            }\n",
    "\n",
    "response = chain.invoke(req_value)"
   ]
  },
  {
   "cell_type": "code",
   "execution_count": 31,
   "id": "8a9568b0",
   "metadata": {},
   "outputs": [
    {
     "name": "stdout",
     "output_type": "stream",
     "text": [
      "# Apple Inc. 투자보고서\n",
      "\n",
      "## 기본정보\n",
      "- 기업명: Apple Inc.\n",
      "- 시가총액: 2,968,938,348,544\n",
      "- 산업: 소비자 전자제품\n",
      "- 섹터: 기술\n",
      "- 정규직 종업원 수: 164,000 명\n",
      "- 현재 주가: $198.78\n",
      "- 기업 가치: 3,076,731,961,344\n",
      "\n",
      "## 재무제표\n",
      "\n",
      "### 손익계산서\n",
      "| 항목              | 2024년  | 2023년  | 2022년  | 2021년  |\n",
      "|:------------------|--------:|--------:|--------:|--------:|\n",
      "| 총 수익           | 391,035억 | 383,285억 | 394,328억 | 365,817억 |\n",
      "| 총 이익           | 180,683억 | 169,148억 | 170,782억 | 152,836억 |\n",
      "| 영업 이익         | 123,216억 | 114,301억 | 119,437억 | 108,949억 |\n",
      "| 순 이익           | 93,736억  | 96,995억  | 99,803억  | 94,680억  |\n",
      "\n",
      "### 대차대조표\n",
      "| 항목                                       | 2024년  | 2023년  | 2022년  | 2021년  |\n",
      "|:------------------------------------------|--------:|--------:|--------:|--------:|\n",
      "| 총 자산                                   | 364,980억 | 352,583억 | 352,755억 | 351,002억 |\n",
      "| 총 부채 및 소수주의 이익 차지 지분 | 308,030억 | 290,437억 | 302,083억 | 287,912억 |\n",
      "| 주주자 자본                             | 56,950억  | 62,146억  | 50,672억  | 63,090억  |\n",
      "\n",
      "### 현금 흐름표\n",
      "| 항목                  | 2024년  | 2023년  | 2022년  | 2021년  |\n",
      "|:---------------------|--------:|--------:|--------:|--------:|\n",
      "| 영업 현금 흐름       | 118,254억 | 110,543억 | 122,151억 | 104,038억 |\n",
      "| 투자 현금 흐름       | 2,935억   | 3,705억   | -22,354억 | -14,545억 |\n",
      "| 재무 현금 흐름       | -121,983억 | -108,488억 | -110,749억 | -93,353억 |\n",
      "\n",
      "주식 시장은 미래 예측이 정확하지 않기 때문에 Apple Inc. 주식에 투자할지 여부는 자신의 투자 목표, 리스크 허용 수준 및 시장 조건을 고려해야 합니다. 위의 재무제표를 참고하여 투자 결정을 내리는 것이 중요합니다. 본 보고서는 단순 참고용이며 꼼꼼한 조사 및 신중한 판단이 요구됩니다.\n"
     ]
    }
   ],
   "source": [
    "print(response)"
   ]
  },
  {
   "cell_type": "code",
   "execution_count": null,
   "id": "ca3aeeeb",
   "metadata": {},
   "outputs": [],
   "source": []
  },
  {
   "cell_type": "code",
   "execution_count": null,
   "id": "5d0aaa73",
   "metadata": {},
   "outputs": [],
   "source": []
  }
 ],
 "metadata": {
  "kernelspec": {
   "display_name": "lc_env",
   "language": "python",
   "name": "python3"
  },
  "language_info": {
   "codemirror_mode": {
    "name": "ipython",
    "version": 3
   },
   "file_extension": ".py",
   "mimetype": "text/x-python",
   "name": "python",
   "nbconvert_exporter": "python",
   "pygments_lexer": "ipython3",
   "version": "3.12.11"
  }
 },
 "nbformat": 4,
 "nbformat_minor": 5
}
